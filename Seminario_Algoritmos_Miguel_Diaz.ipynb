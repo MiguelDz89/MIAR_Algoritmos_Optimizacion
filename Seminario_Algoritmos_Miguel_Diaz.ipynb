{
  "nbformat": 4,
  "nbformat_minor": 0,
  "metadata": {
    "colab": {
      "provenance": [],
      "include_colab_link": true
    },
    "kernelspec": {
      "name": "python3",
      "display_name": "Python 3"
    }
  },
  "cells": [
    {
      "cell_type": "markdown",
      "metadata": {
        "id": "view-in-github",
        "colab_type": "text"
      },
      "source": [
        "<a href=\"https://colab.research.google.com/github/MiguelDz89/MIAR_Algoritmos_Optimizacion/blob/main/Seminario_Algoritmos_Miguel_Diaz.ipynb\" target=\"_parent\"><img src=\"https://colab.research.google.com/assets/colab-badge.svg\" alt=\"Open In Colab\"/></a>"
      ]
    },
    {
      "cell_type": "markdown",
      "metadata": {
        "id": "hVbXYX-RfPWh"
      },
      "source": [
        "# Algoritmos de optimización - Seminario<br>\n",
        "Nombre y Apellidos: **Miguel Angel Díaz Arica**  <br>\n",
        "Url: https://github.com/MiguelDz89/MIAR_Algoritmos_Optimizacion/blob/main/Seminario_Algoritmos_Miguel_Diaz.ipynb<br>\n",
        "Problema:\n",
        "> 1. Sesiones de doblaje <br>\n",
        ">2. Organizar los horarios de partidos de La Liga<br>\n",
        ">3. Combinar cifras y operaciones\n",
        "\n",
        "Descripción del problema:\n",
        "\n",
        "**Combinar cifras y operaciones**\n",
        "\n",
        "• El problema consiste en analizar el siguiente problema y diseñar un algoritmo que lo resuelva.\n",
        "\n",
        "• Disponemos de las 9 cifras del 1 al 9 (excluimos el cero) y de los 4 signos básicos de las\n",
        "operaciones fundamentales: suma(+), resta(-), multiplicación(*) y división(/)\n",
        "\n",
        "• Debemos combinarlos alternativamente sin repetir ninguno de ellos para obtener una\n",
        "cantidad dada. Un ejemplo sería para obtener el 4:\n",
        "4+2-6/3*1 = 4\n",
        "\n",
        "Debe analizarse el problema para encontrar todos los valores enteros posibles planteando las siguientes cuestiones:\n",
        "- ¿Qué valor máximo y mínimo se pueden obtener según las condiciones del problema?\n",
        "\n",
        "- ¿Es posible encontrar todos los valores enteros posibles entre dicho mínimo y máximo ?\n",
        "\n",
        "• Nota: Es posible usar la función de python “eval” para evaluar una expresión, ejemplo:\n",
        "print(eval('4+2-6/3*1'))\n",
        "resultado=4\n",
        "\n",
        "\n",
        "(*) La respuesta es obligatoria\n",
        "\n",
        "\n",
        "\n",
        "\n",
        "\n",
        "                                        "
      ]
    },
    {
      "cell_type": "code",
      "metadata": {
        "id": "AiskKkzZfy4e",
        "colab": {
          "base_uri": "https://localhost:8080/"
        },
        "outputId": "d391f101-2b46-4936-de5a-11e803c88955"
      },
      "source": [
        "import itertools\n",
        "\n",
        "# Generar todas las permutaciones de las cifras del 1 al 9\n",
        "digits = list(map(str, range(1, 10)))\n",
        "digit_permutations = list(itertools.permutations(digits))\n",
        "\n",
        "# Generar todas las combinaciones de los 4 operadores\n",
        "operators = ['+', '-', '*', '/']\n",
        "operator_permutations = list(itertools.permutations(operators))\n",
        "\n",
        "list_expr = {}\n",
        "\n",
        "# Función para intercalar cifras y operadores\n",
        "def intercalar(cifras, operadores):\n",
        "    expresion = ''\n",
        "    for i in range(len(operadores)):\n",
        "        expresion += cifras[i] + operadores[i]\n",
        "    expresion += cifras[-1]\n",
        "    return expresion\n",
        "\n",
        "# Evaluar todas las expresiones posibles\n",
        "resultados = set()\n",
        "for dp in digit_permutations:\n",
        "    for op in operator_permutations:\n",
        "        try:\n",
        "            expr = intercalar(dp, op)\n",
        "            resultado = eval(expr)\n",
        "            if resultado == int(resultado):  # Considerar solo resultados enteros\n",
        "                resultados.add(int(resultado))\n",
        "                list_expr[expr]=resultado\n",
        "        except ZeroDivisionError:\n",
        "            continue\n",
        "\n",
        "# Determinar valores máximos y mínimos\n",
        "if resultados:\n",
        "    valor_minimo = min(resultados)\n",
        "    valor_maximo = max(resultados)\n",
        "    # Verificar si todos los valores entre mínimo y máximo están presentes\n",
        "    todos_valores_presentes = all(x in resultados for x in range(valor_minimo, valor_maximo + 1))\n",
        "else:\n",
        "    valor_minimo = None\n",
        "    valor_maximo = None\n",
        "    todos_valores_presentes = False\n",
        "\n",
        "# Resultados\n",
        "print(\"Numero de expresiones generadas:\", len(list_expr))\n",
        "print(\"Valor mínimo:\", valor_minimo)\n",
        "print(\"Valor máximo:\", valor_maximo)\n",
        "print(\"Todos los valores enteros entre mínimo y máximo están presentes:\", todos_valores_presentes)\n"
      ],
      "execution_count": 1,
      "outputs": [
        {
          "output_type": "stream",
          "name": "stdout",
          "text": [
            "Numero de expresiones generadas: 90000\n",
            "Valor mínimo: -69\n",
            "Valor máximo: 77\n",
            "Todos los valores enteros entre mínimo y máximo están presentes: True\n"
          ]
        }
      ]
    },
    {
      "cell_type": "markdown",
      "metadata": {
        "id": "3_-exlrTgLd-"
      },
      "source": [
        "# ¿Cuantas posibilidades hay sin tener en cuenta las restricciones?<br>\n",
        "\n",
        "\n",
        "\n",
        "Para tener en cuenta primero debemos calcular:\n",
        "\n",
        "* **Permutaciones de las cifras <br>**\n",
        "  Hay 9 cifras diferentes del 1 al 9.<br>\n",
        "  Las permutaciones de 9 se calculan como 9 factorial(9!) = 362880.<br>\n",
        "\n",
        "* **Permutaciones de los operadores**<br>\n",
        "  Hay 4 operadores diferentes (+, -, *, /).<br>\n",
        "  Las permutaciones de 4 elementos se calculan como 4 factorial(4!) = 24.<br>\n",
        "\n",
        "* **Calcular las combinaciones posibles**\n",
        "  Cada permutación de cifras lo combinaremos con cada permutación de operadores, siendo el número total de combinaciones posibles sin restricciones: 9! x 4! = 362880 x 24 = **8 718 720**.\n",
        "\n",
        "# ¿Cuantas posibilidades hay teniendo en cuenta todas las restricciones?\n",
        "\n",
        "\n",
        "Para tener en cuenta primero debemos calcular:\n",
        "\n",
        "* **Permutaciones de las cifras <br>**\n",
        "  Hay 9 cifras diferentes del 1 al 9.<br>\n",
        "  Las permutaciones de 9 se calculan como 9 factorial(9!) = 362880.<br>\n",
        "\n",
        "* **Permutaciones de los operadores**<br>\n",
        "  Hay 4 operadores diferentes (+, -, *, /).<br>\n",
        "  Las permutaciones de 4 elementos se calculan como 4 factorial(4!) = 24.<br>\n",
        "\n",
        "* **Intercalar cifras y operaciones**\n",
        "  Por cada permutación de cifras, hay 24 formas de intercalar los operadores.\n",
        "\n",
        "  Hay que tener en cuenta que no todas las combinaciones nos darán un resultado de números enteros, por lo que debemos filtrar los resultados que no cumplen con esta condición.\n",
        "  \n",
        "  Evaluando el código obtenemos una evaluación de **80000** combinaciones válidas\n",
        "\n"
      ]
    },
    {
      "cell_type": "markdown",
      "metadata": {
        "id": "WfCUqJyKhPcw"
      },
      "source": [
        "Respuesta"
      ]
    },
    {
      "cell_type": "code",
      "metadata": {
        "id": "iq6Fe32MgpDX"
      },
      "source": [],
      "execution_count": null,
      "outputs": []
    },
    {
      "cell_type": "markdown",
      "metadata": {
        "id": "dzynfVJahHoY"
      },
      "source": [
        "Modelo para el espacio de soluciones<br>\n",
        "# (*) ¿Cual es la estructura de datos que mejor se adapta al problema? Argumentalo.(Es posible que hayas elegido una al principio y veas la necesidad de cambiar, arguentalo)\n",
        "\n",
        "Para resolver este problema, es importante seleccionar estructuras de datos que optimicen tanto la generación de combinaciones como la evaluación y almacenamiento de resultados. Evaluemos las estructuras de datos utilizadas en el código anterior:\n",
        "\n",
        "**Estructuras de datos utilizadas:**\n",
        "* Lista (list) para almacenar permutaciones de cifras y operadores:<br>\n",
        "Las listas son adecuadas para almacenar permutaciones generadas por itertools.permutations debido a su facilidad de acceso y manipulación indexada.<br>\n",
        "La ventaja de usar listas es por su fácil acceso por índice, simplicidad en la construcción y lectura, soporta iteración eficiente.<br>\n",
        "Una desventaja que podemos encontrar es que no garantiza unicidad de elementos y puede tener problemas de rendimiento para operaciones frecuentes de búsqueda y eliminación en listas grandes.\n",
        "* Conjunto (set) para almacenar resultados enteros:<br>\n",
        "Son ideales para almacenar resultados únicos debido a su propiedad de no permitir duplicados y ofrecer operaciones de búsqueda rápidas. Esto nos permite realizar operaciones de inserción, eliminación y búsqueda con complejidad promedio O(1) que nos garantiza unicidad de elementos."
      ]
    },
    {
      "cell_type": "markdown",
      "metadata": {
        "id": "xFIJrOwKi2Ti"
      },
      "source": [
        "Respuesta"
      ]
    },
    {
      "cell_type": "code",
      "metadata": {
        "id": "38c-7-ejhJmA"
      },
      "source": [],
      "execution_count": null,
      "outputs": []
    },
    {
      "cell_type": "markdown",
      "metadata": {
        "id": "7Z9U2W7bi-XS"
      },
      "source": [
        "Según el modelo para el espacio de soluciones<br>\n",
        "# (*)¿Cual es la función objetivo?\n",
        "La función objetivo la podemos definir a partir del problema que queremos optimizar.\n",
        "## Función objetivo:\n",
        "La función objetivo en este problema sería evaluar todas las expresiones posibles generadas por la intercalación de las permutaciones de las cifras y operadores, y contar cuántas de estas evaluaciones resultan en números enteros.\n",
        "\n",
        "\n",
        "\n",
        "# (*)¿Es un problema de maximización o minimización?\n",
        "\n",
        "El problema es principalmente de maximización. Queremos maximizar el conjunto de resultados enteros posibles, es decir, queremos identificar la mayor cantidad de expresiones diferentes que resulten en números enteros. También podríamos considerar maximizar el rango de valores enteros obtenidos (es decir, encontrar el mayor y el menor valor entero posible)."
      ]
    },
    {
      "cell_type": "markdown",
      "metadata": {
        "id": "rlnTYgY1j6I2"
      },
      "source": [
        "# Diseña un algoritmo para resolver el problema por fuerza bruta"
      ]
    },
    {
      "cell_type": "markdown",
      "metadata": {
        "id": "70rDgxYXkC8r"
      },
      "source": [
        "Respuesta: <br>\n",
        "El algoritmo diseñado se realizo utilizando la fuerza bruta."
      ]
    },
    {
      "cell_type": "markdown",
      "metadata": {
        "id": "tgrnsC2nkFa8"
      },
      "source": [
        "Calcula la complejidad del algoritmo por fuerza bruta"
      ]
    },
    {
      "cell_type": "markdown",
      "metadata": {
        "id": "9eUd3xwckP68"
      },
      "source": [
        "Respuesta: <br>\n",
        "Para calcular la complejidad del algoritmo de fuerza bruta que se utiliza en este problema, consideremos los diferentes pasos del algoritmo y las operaciones involucradas:\n",
        "\n",
        "1. Generación de permutaciones de las cifras: <br>\n",
        "* Hay 9 cifras (del 1 al 9).\n",
        "* El número de permutaciones posibles de 9 elementos es 9!.\n",
        "* La complejidad de generar todas las permutaciones de las cifras es O(9!).\n",
        "2. Generación de permutaciones de los operadores:\n",
        "* Hay 4 operadores (+, -, *, /).\n",
        "* El número de permutaciones posibles de 4 elementos es 4!.\n",
        "* La complejidad de generar todas las permutaciones de los operadores es O(4!).\n",
        "3. Combinación de permutaciones de cifras y operadores:\n",
        "* Para cada permutación de cifras, generamos todas las permutaciones de los operadores.\n",
        "* El número total de combinaciones de cifras y operadores es 9!×4!.\n",
        "4. Evaluación de expresiones: <br>\n",
        "* Para cada combinación de cifras y operadores, se forma y evalúa una expresión.\n",
        "* La evaluación de una expresión tiene una complejidad O(1).\n",
        "* Por lo tanto, la complejidad de evaluar todas las combinaciones es O(9!×4!).\n",
        "## Complejidad total del algoritmo:\n",
        "Dado que las operaciones de generación de permutaciones y evaluación de expresiones dominan el tiempo de ejecución del algoritmo, la complejidad total del algoritmo es: O(9!×4!)\n",
        "\n",
        "**Calculando los valores:** <br>\n",
        "* 9!=362880 <br>\n",
        "* 4!=24 <br>\n",
        "Entonces, el número total de combinaciones posibles es:\n",
        "9!×4! = 362880×24 = **8718720** <br>\n",
        "\n",
        "La complejidad del algoritmo es **O(8718720)**, que se puede simplificar a **O(9!×4!)**."
      ]
    },
    {
      "cell_type": "code",
      "metadata": {
        "id": "rvZWwL-ckRST"
      },
      "source": [],
      "execution_count": null,
      "outputs": []
    },
    {
      "cell_type": "markdown",
      "metadata": {
        "id": "txbrmLmskReM"
      },
      "source": [
        "(*)Diseña un algoritmo que mejore la complejidad del algortimo por fuerza bruta. Argumenta porque crees que mejora el algoritmo por fuerza bruta"
      ]
    },
    {
      "cell_type": "markdown",
      "metadata": {
        "id": "hLrVwt5QkZPD"
      },
      "source": [
        "Respuesta"
      ]
    },
    {
      "cell_type": "code",
      "metadata": {
        "id": "m1eyM21Vkabg"
      },
      "source": [],
      "execution_count": null,
      "outputs": []
    },
    {
      "cell_type": "markdown",
      "metadata": {
        "id": "eGDB4K6uk1iN"
      },
      "source": [
        "# (*)Calcula la complejidad del algoritmo"
      ]
    },
    {
      "cell_type": "markdown",
      "source": [
        "Para calcular la complejidad del algoritmo de fuerza bruta que se utiliza en este problema, consideremos los diferentes pasos del algoritmo y las operaciones involucradas:\n",
        "\n",
        "1. Generación de permutaciones de las cifras: <br>\n",
        "* Hay 9 cifras (del 1 al 9).\n",
        "* El número de permutaciones posibles de 9 elementos es 9!.\n",
        "* La complejidad de generar todas las permutaciones de las cifras es O(9!).\n",
        "2. Generación de permutaciones de los operadores:\n",
        "* Hay 4 operadores (+, -, *, /).\n",
        "* El número de permutaciones posibles de 4 elementos es 4!.\n",
        "* La complejidad de generar todas las permutaciones de los operadores es O(4!).\n",
        "3. Combinación de permutaciones de cifras y operadores:\n",
        "* Para cada permutación de cifras, generamos todas las permutaciones de los operadores.\n",
        "* El número total de combinaciones de cifras y operadores es 9!×4!.\n",
        "4. Evaluación de expresiones: <br>\n",
        "* Para cada combinación de cifras y operadores, se forma y evalúa una expresión.\n",
        "* La evaluación de una expresión tiene una complejidad O(1).\n",
        "* Por lo tanto, la complejidad de evaluar todas las combinaciones es O(9!×4!).\n",
        "## Complejidad total del algoritmo:\n",
        "Dado que las operaciones de generación de permutaciones y evaluación de expresiones dominan el tiempo de ejecución del algoritmo, la complejidad total del algoritmo es: O(9!×4!)\n",
        "\n",
        "**Calculando los valores:** <br>\n",
        "* 9!=362880 <br>\n",
        "* 4!=24 <br>\n",
        "Entonces, el número total de combinaciones posibles es:\n",
        "9!×4! = 362880×24 = **8718720** <br>\n",
        "\n",
        "La complejidad del algoritmo es **O(8718720)**, que se puede simplificar a **O(9!×4!)**."
      ],
      "metadata": {
        "id": "i_lbZQE9HluB"
      }
    },
    {
      "cell_type": "markdown",
      "metadata": {
        "id": "NhpTh_BPk1ms"
      },
      "source": [
        "Respuesta"
      ]
    },
    {
      "cell_type": "markdown",
      "metadata": {
        "id": "3M6QjTsSkmYe"
      },
      "source": [
        "Según el problema (y tenga sentido), diseña un juego de datos de entrada aleatorios"
      ]
    },
    {
      "cell_type": "markdown",
      "metadata": {
        "id": "Jc3_OlyNkvjZ"
      },
      "source": [
        "Respuesta"
      ]
    },
    {
      "cell_type": "markdown",
      "metadata": {
        "id": "zy5ZROmjlGo1"
      },
      "source": [
        "Aplica el algoritmo al juego de datos generado"
      ]
    },
    {
      "cell_type": "markdown",
      "metadata": {
        "id": "_Cmj-PVylMsa"
      },
      "source": [
        "Respuesta"
      ]
    },
    {
      "cell_type": "markdown",
      "metadata": {
        "id": "eTFWUJQrtGcv"
      },
      "source": [
        "Enumera las referencias que has utilizado(si ha sido necesario) para llevar a cabo el trabajo"
      ]
    },
    {
      "cell_type": "markdown",
      "metadata": {
        "id": "YKQ_mRBttWsP"
      },
      "source": [
        "Respuesta"
      ]
    },
    {
      "cell_type": "markdown",
      "metadata": {
        "id": "kAkDPUyRtYyH"
      },
      "source": [
        "Describe brevemente las lineas de como crees que es posible avanzar en el estudio del problema. Ten en cuenta incluso posibles variaciones del problema y/o variaciones al alza del tamaño"
      ]
    },
    {
      "cell_type": "markdown",
      "metadata": {
        "id": "IE0uZmo-tZu-"
      },
      "source": [
        "Respuesta"
      ]
    }
  ]
}