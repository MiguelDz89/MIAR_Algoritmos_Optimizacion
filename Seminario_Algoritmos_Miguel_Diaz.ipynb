{
  "cells": [
    {
      "cell_type": "markdown",
      "metadata": {
        "id": "view-in-github",
        "colab_type": "text"
      },
      "source": [
        "<a href=\"https://colab.research.google.com/github/MiguelDz89/MIAR_Algoritmos_Optimizacion/blob/main/Seminario_Algoritmos_Miguel_Diaz.ipynb\" target=\"_parent\"><img src=\"https://colab.research.google.com/assets/colab-badge.svg\" alt=\"Open In Colab\"/></a>"
      ]
    },
    {
      "cell_type": "markdown",
      "metadata": {
        "id": "hVbXYX-RfPWh"
      },
      "source": [
        "# Algoritmos de optimización - Seminario<br>\n",
        "Nombre y Apellidos: **Miguel Angel Díaz Arica**  <br>\n",
        "Url: https://github.com/MiguelDz89/MIAR_Algoritmos_Optimizacion/blob/main/Seminario_Algoritmos_Miguel_Diaz.ipynb<br>\n",
        "Problema:\n",
        "> 1. Sesiones de doblaje <br>\n",
        ">2. Organizar los horarios de partidos de La Liga<br>\n",
        ">3. Combinar cifras y operaciones\n",
        "\n",
        "Descripción del problema:\n",
        "\n",
        "# **Combinar cifras y operaciones**\n",
        "\n",
        "• El problema consiste en analizar el siguiente problema y diseñar un algoritmo que lo resuelva.\n",
        "\n",
        "• Disponemos de las 9 cifras del 1 al 9 (excluimos el cero) y de los 4 signos básicos de las\n",
        "operaciones fundamentales: suma(+), resta(-), multiplicación(*) y división(/)\n",
        "\n",
        "• Debemos combinarlos alternativamente sin repetir ninguno de ellos para obtener una\n",
        "cantidad dada. Un ejemplo sería para obtener el 4:\n",
        "4+2-6/3*1 = 4\n",
        "\n",
        "Debe analizarse el problema para encontrar todos los valores enteros posibles planteando las siguientes cuestiones:\n",
        "- ¿Qué valor máximo y mínimo se pueden obtener según las condiciones del problema?\n",
        "\n",
        "- ¿Es posible encontrar todos los valores enteros posibles entre dicho mínimo y máximo ?\n",
        "\n",
        "• Nota: Es posible usar la función de python “eval” para evaluar una expresión, ejemplo:\n",
        "print(eval('4+2-6/3*1'))\n",
        "resultado=4\n",
        "\n",
        "\n",
        "(*) La respuesta es obligatoria\n",
        "\n",
        "\n",
        "\n",
        "\n",
        "\n",
        "                                        "
      ]
    },
    {
      "cell_type": "markdown",
      "metadata": {
        "id": "l6_g3KVTK8Zm"
      },
      "source": [
        "## Pseudocódigo del Algoritmo\n",
        "Se detalla el pseudocódigo de lo que se va a programar, hay que tener en cuenta que vamos a recorrer un listado con las cifras y un listado de los operadores ambos los generamos por permutacion:\n",
        "```\n",
        "generar todas las permutaciones de las cifras del 1 al 9\n",
        "generar todas las permutaciones de los operadores +, -, *, /\n",
        "\n",
        "para cada permutación de cifras:\n",
        "    para cada permutación de operadores:\n",
        "        combinar cifras y operadores para formar una expresión\n",
        "        evaluar la expresión\n",
        "        si el resultado es un entero:\n",
        "            almacenar el resultado en un conjunto\n",
        "\n",
        "determinar el valor mínimo de los resultados enteros\n",
        "determinar el valor máximo de los resultados enteros\n",
        "\n",
        "verificar si todos los valores enteros entre el mínimo y el máximo están presentes\n",
        "\n",
        "imprimir el valor mínimo, valor máximo y si todos los valores están presentes\n",
        "\n",
        "```\n",
        "\n",
        "\n"
      ]
    },
    {
      "cell_type": "code",
      "execution_count": 6,
      "metadata": {
        "colab": {
          "base_uri": "https://localhost:8080/"
        },
        "id": "AiskKkzZfy4e",
        "outputId": "0d83fae5-99f9-4a1a-d3d2-843cea621c27"
      },
      "outputs": [
        {
          "output_type": "stream",
          "name": "stdout",
          "text": [
            "Valor digit_permutations: 362880\n",
            "Valor operator_permutations: 24\n",
            "Numero de expresiones generadas: 90000\n",
            "Valor mínimo: -69\n",
            "Valor máximo: 77\n",
            "Todos los valores enteros entre mínimo y máximo están presentes: True\n"
          ]
        }
      ],
      "source": [
        "import itertools\n",
        "\n",
        "# Generar todas las permutaciones de las cifras del 1 al 9\n",
        "digits = list(map(str, range(1, 10)))\n",
        "digit_permutations = list(itertools.permutations(digits))\n",
        "\n",
        "# Generar todas las combinaciones de los 4 operadores\n",
        "operators = ['+', '-', '*', '/']\n",
        "operator_permutations = list(itertools.permutations(operators))\n",
        "\n",
        "list_expr = {}\n",
        "\n",
        "# Función para intercalar cifras y operadores\n",
        "def intercalar(cifras, operadores):\n",
        "    expresion = ''\n",
        "    for i in range(len(operadores)):\n",
        "        expresion += cifras[i] + operadores[i]\n",
        "    expresion += cifras[-1]\n",
        "    return expresion\n",
        "\n",
        "# Evaluar todas las expresiones posibles\n",
        "resultados = set()\n",
        "for dp in digit_permutations:\n",
        "    for op in operator_permutations:\n",
        "        try:\n",
        "            expr = intercalar(dp, op)\n",
        "            resultado = eval(expr)\n",
        "            if resultado == int(resultado):  # Considerar solo resultados enteros\n",
        "                resultados.add(int(resultado))\n",
        "                list_expr[expr]=resultado\n",
        "        except ZeroDivisionError:\n",
        "            continue\n",
        "\n",
        "# Determinar valores máximos y mínimos\n",
        "if resultados:\n",
        "    valor_minimo = min(resultados)\n",
        "    valor_maximo = max(resultados)\n",
        "    # Verificar si todos los valores entre mínimo y máximo están presentes\n",
        "    todos_valores_presentes = all(x in resultados for x in range(valor_minimo, valor_maximo + 1))\n",
        "else:\n",
        "    valor_minimo = None\n",
        "    valor_maximo = None\n",
        "    todos_valores_presentes = False\n",
        "\n",
        "# Resultados\n",
        "\n",
        "print(\"Cantidad de digit_permutations:\", len(digit_permutations))\n",
        "print(\"Cantidad de operator_permutations:\", len(operator_permutations))\n",
        "print(\"Numero de expresiones generadas:\", len(list_expr))\n",
        "print(\"Valor mínimo:\", valor_minimo)\n",
        "print(\"Valor máximo:\", valor_maximo)\n",
        "print(\"Todos los valores enteros entre mínimo y máximo están presentes:\", todos_valores_presentes)\n"
      ]
    },
    {
      "cell_type": "markdown",
      "metadata": {
        "id": "3_-exlrTgLd-"
      },
      "source": [
        "# ¿Cuantas posibilidades hay sin tener en cuenta las restricciones?<br>\n",
        "\n",
        "\n",
        "\n",
        "Para tener en cuenta primero debemos calcular:\n",
        "\n",
        "* **Permutaciones de las cifras <br>**\n",
        "  Hay 9 cifras diferentes del 1 al 9.<br>\n",
        "  Las permutaciones de 9 se calculan como 9 factorial(9!) = 362880.<br>\n",
        "\n",
        "* **Permutaciones de los operadores**<br>\n",
        "  Hay 4 operadores diferentes (+, -, *, /).<br>\n",
        "  Las permutaciones de 4 elementos se calculan como 4 factorial(4!) = 24.<br>\n",
        "\n",
        "* **Calcular las combinaciones posibles**\n",
        "  Cada permutación de cifras lo combinaremos con cada permutación de operadores, siendo el número total de combinaciones posibles sin restricciones: 9! x 4! = 362880 x 24 = **8 718 720**.\n",
        "\n",
        "# ¿Cuantas posibilidades hay teniendo en cuenta todas las restricciones?\n",
        "\n",
        "\n",
        "Para tener en cuenta primero debemos calcular:\n",
        "\n",
        "* **Permutaciones de las cifras <br>**\n",
        "  Hay 9 cifras diferentes del 1 al 9.<br>\n",
        "  Las permutaciones de 9 se calculan como 9 factorial(9!) = 362880.<br>\n",
        "\n",
        "* **Permutaciones de los operadores**<br>\n",
        "  Hay 4 operadores diferentes (+, -, *, /).<br>\n",
        "  Las permutaciones de 4 elementos se calculan como 4 factorial(4!) = 24.<br>\n",
        "\n",
        "* **Intercalar cifras y operaciones**\n",
        "  Por cada permutación de cifras, hay 24 formas de intercalar los operadores.\n",
        "\n",
        "  Hay que tener en cuenta que no todas las combinaciones nos darán un resultado de números enteros, por lo que debemos filtrar los resultados que no cumplen con esta condición.\n",
        "  \n",
        "  Evaluando el código obtenemos una evaluación de **80000** combinaciones válidas\n",
        "\n"
      ]
    },
    {
      "cell_type": "markdown",
      "metadata": {
        "id": "dzynfVJahHoY"
      },
      "source": [
        "Modelo para el espacio de soluciones<br>\n",
        "# (*) ¿Cual es la estructura de datos que mejor se adapta al problema? Argumentalo.(Es posible que hayas elegido una al principio y veas la necesidad de cambiar, arguentalo)\n",
        "\n",
        "Para resolver este problema, es importante seleccionar estructuras de datos que optimicen tanto la generación de combinaciones como la evaluación y almacenamiento de resultados. Evaluemos las estructuras de datos utilizadas en el código anterior:\n",
        "\n",
        "**Estructuras de datos utilizadas:**\n",
        "* Lista (list) para almacenar permutaciones de cifras y operadores:<br>\n",
        "Las listas son adecuadas para almacenar permutaciones generadas por itertools.permutations debido a su facilidad de acceso y manipulación indexada.<br>\n",
        "La ventaja de usar listas es por su fácil acceso por índice, simplicidad en la construcción y lectura, soporta iteración eficiente.<br>\n",
        "Una desventaja que podemos encontrar es que no garantiza unicidad de elementos y puede tener problemas de rendimiento para operaciones frecuentes de búsqueda y eliminación en listas grandes.\n",
        "* Conjunto (set) para almacenar resultados enteros:<br>\n",
        "Son ideales para almacenar resultados únicos debido a su propiedad de no permitir duplicados y ofrecer operaciones de búsqueda rápidas. Esto nos permite realizar operaciones de inserción, eliminación y búsqueda con complejidad promedio O(1) que nos garantiza unicidad de elementos."
      ]
    },
    {
      "cell_type": "markdown",
      "metadata": {
        "id": "7Z9U2W7bi-XS"
      },
      "source": [
        "Según el modelo para el espacio de soluciones<br>\n",
        "# (*)¿Cual es la función objetivo?\n",
        "La función objetivo la podemos definir a partir del problema que queremos optimizar.\n",
        "## Función objetivo:\n",
        "La función objetivo en este problema sería evaluar todas las expresiones posibles generadas por la intercalación de las permutaciones de las cifras y operadores, y contar cuántas de estas evaluaciones resultan en números enteros.\n",
        "\n",
        "\n",
        "\n",
        "# (*)¿Es un problema de maximización o minimización?\n",
        "\n",
        "El problema es principalmente de maximización. Queremos maximizar el conjunto de resultados enteros posibles, es decir, queremos identificar la mayor cantidad de expresiones diferentes que resulten en números enteros. También podríamos considerar maximizar el rango de valores enteros obtenidos (es decir, encontrar el mayor y el menor valor entero posible)."
      ]
    },
    {
      "cell_type": "markdown",
      "metadata": {
        "id": "rlnTYgY1j6I2"
      },
      "source": [
        "# Diseña un algoritmo para resolver el problema por fuerza bruta"
      ]
    },
    {
      "cell_type": "markdown",
      "metadata": {
        "id": "70rDgxYXkC8r"
      },
      "source": [
        "Respuesta: <br>\n",
        "El algoritmo diseñado se realizo utilizando la fuerza bruta."
      ]
    },
    {
      "cell_type": "markdown",
      "metadata": {
        "id": "tgrnsC2nkFa8"
      },
      "source": [
        "# Calcula la complejidad del algoritmo por fuerza bruta"
      ]
    },
    {
      "cell_type": "markdown",
      "metadata": {
        "id": "9eUd3xwckP68"
      },
      "source": [
        "Respuesta: <br>\n",
        "Para calcular la complejidad del algoritmo de fuerza bruta que se utiliza en este problema, consideremos los diferentes pasos del algoritmo y las operaciones involucradas:\n",
        "\n",
        "1. Generación de permutaciones de las cifras: <br>\n",
        "* Hay 9 cifras (del 1 al 9).\n",
        "* El número de permutaciones posibles de 9 elementos es 9!.\n",
        "* La complejidad de generar todas las permutaciones de las cifras es O(9!).\n",
        "2. Generación de permutaciones de los operadores:\n",
        "* Hay 4 operadores (+, -, *, /).\n",
        "* El número de permutaciones posibles de 4 elementos es 4!.\n",
        "* La complejidad de generar todas las permutaciones de los operadores es O(4!).\n",
        "3. Combinación de permutaciones de cifras y operadores:\n",
        "* Para cada permutación de cifras, generamos todas las permutaciones de los operadores.\n",
        "* El número total de combinaciones de cifras y operadores es 9!×4!.\n",
        "4. Evaluación de expresiones: <br>\n",
        "* Para cada combinación de cifras y operadores, se forma y evalúa una expresión.\n",
        "* La evaluación de una expresión tiene una complejidad O(1).\n",
        "* Por lo tanto, la complejidad de evaluar todas las combinaciones es O(9!×4!).\n",
        "## Complejidad total del algoritmo por fuerza bruta:\n",
        "Dado que las operaciones de generación de permutaciones y evaluación de expresiones dominan el tiempo de ejecución del algoritmo, la complejidad total del algoritmo es: O(9!×4!)\n",
        "\n",
        "**Calculando los valores:** <br>\n",
        "* 9!=362880 <br>\n",
        "* 4!=24 <br>\n",
        "Entonces, el número total de combinaciones posibles es:\n",
        "9!×4! = 362880×24 = **8718720** <br>\n",
        "\n",
        "La complejidad del algoritmo es **O(8718720)**, que se puede simplificar a **O(9!×4!)**."
      ]
    },
    {
      "cell_type": "markdown",
      "metadata": {
        "id": "txbrmLmskReM"
      },
      "source": [
        "# (*)Diseña un algoritmo que mejore la complejidad del algortimo por fuerza bruta. Argumenta porque crees que mejora el algoritmo por fuerza bruta"
      ]
    },
    {
      "cell_type": "markdown",
      "metadata": {
        "id": "hLrVwt5QkZPD"
      },
      "source": [
        "## Enfriamiento simulado, Recocido Simulado,  o Simulated-Annealing\n",
        "El Enfriamiento Simulado o Recocido Recocido es un método de optimización que permite movimientos a soluciones peores con una probabilidad que disminuye con el tiempo (temperatura). La probabilidad de aceptar una solución peor se basa en la función de temperatura que decrece a lo largo del tiempo.\n",
        "Este tipo de algoritmos tiene como objetivo desarrollar técnicas eficientes para encontrar valores mínimos y máximos de una función de muchas variables independientes. La función de costos depende de la configuración detallada del sistema.\n",
        "\n",
        "1. En este caso vamos a inicializar el problema definiendo los parametros iniciales, temperatura inicial, temperatura final, tasa de enfriamiento y número de iteraciones por temperatura. Luego generamos una solución inicial y calculamos su fitness. <br>\n",
        "2. Luego inicializaremos la temperatura y calculamos el número de iteraciones que necesitaremos para que la temperatura disminuya desde la temperatura Inicial hasta la final usando la tasa de enfriamiento α.<br>\n",
        "3. Creamos un bucle de enfriamiento donde la condición será que mientras la temperatura no sea menor que la Temperatura final se realizan las números de evaluaciones por iteración(ITERATIONS_PER_TEMP):\n",
        "* Cada evaluación genera un vecino y se evalúa su fitness.\n",
        "* Se decide si se acepta el vecino basado en la diferencia de fitness y la temperatura actual.\n",
        "* Se evalúa la expresión de la solución actual y se almacena si el resultado es un entero.\n",
        "* La temperatura se reduce multiplicándola por la tasa de enfriamiento\n",
        "α.\n",
        "<br>\n",
        "\n",
        "4. Al finalizar el bucle de enfriamiento, se evalúan los resultados finales y se determinan los valores mínimo y máximo y sus expresiones correspondientes.\n",
        "\n",
        "\n",
        "\n",
        "## Porque mejora el algoritmo de fuerza bruta:\n",
        "El algoritmo de enfriamiento simulado mejora el enfoque de fuerza bruta principalmente debido a su capacidad para explorar el espacio de soluciones de manera más eficiente y efectiva. Reduce significativamente el número de evaluaciones necesarias y utiliza una estrategia probabilística para evitar quedar atrapado en óptimos locales. Esta combinación de factores lo hace mucho más adecuado para problemas de gran escala donde la fuerza bruta sería impracticable debido a su alta complejidad computacional."
      ]
    },
    {
      "cell_type": "code",
      "execution_count": 5,
      "metadata": {
        "colab": {
          "base_uri": "https://localhost:8080/"
        },
        "id": "m1eyM21Vkabg",
        "outputId": "be20898b-36fc-4571-d34f-4735c2311f48"
      },
      "outputs": [
        {
          "output_type": "stream",
          "name": "stdout",
          "text": [
            "Mejor expresión: 3-5*2+7/1\n",
            "Resultado: 0\n",
            "Valor mínimo: -69 con expresión: 1-9*8+4/2\n",
            "Valor máximo: 77 con expresión: 9*8-2+7/1\n"
          ]
        },
        {
          "output_type": "execute_result",
          "data": {
            "text/plain": [
              "(-69, 77, '1-9*8+4/2', '9*8-2+7/1')"
            ]
          },
          "metadata": {},
          "execution_count": 5
        }
      ],
      "source": [
        "import random\n",
        "import math\n",
        "\n",
        "# Parámetros del algoritmo de enfriamiento simulado\n",
        "INITIAL_TEMPERATURE = 10000\n",
        "FINAL_TEMPERATURE = 1\n",
        "ALPHA = 0.995  # Tasa de enfriamiento\n",
        "ITERATIONS_PER_TEMP = 100\n",
        "\n",
        "# Generar una expresión a partir de dígitos y operadores\n",
        "def generar_expresion(digitos, operadores):\n",
        "    expresion = ''\n",
        "    for i in range(len(operadores)):\n",
        "        expresion += digitos[i] + operadores[i]\n",
        "    expresion += digitos[-1]\n",
        "    return expresion\n",
        "\n",
        "# Función para evaluar una expresión y verificar si es un entero\n",
        "def evaluar_expresion(expr):\n",
        "    try:\n",
        "        resultado = eval(expr)  # Evalúa la expresión matemática\n",
        "        if resultado == int(resultado):  # Verifica si el resultado es un entero\n",
        "            return int(resultado)\n",
        "    except ZeroDivisionError:\n",
        "        pass\n",
        "    except OverflowError:\n",
        "        pass\n",
        "    except Exception:\n",
        "        pass\n",
        "    return None\n",
        "\n",
        "# Función de fitness que mide la calidad de una solución\n",
        "def fitness(expr):\n",
        "    resultado = evaluar_expresion(expr)\n",
        "    if resultado is not None:\n",
        "        return 1 / (1 + abs(resultado))\n",
        "    return 0\n",
        "\n",
        "# Generar dígitos y operadores aleatorios\n",
        "def generar_digitos_y_operadores():\n",
        "    digitos = random.sample(list(map(str, range(1, 10))), 5)  # Genera 5 dígitos únicos\n",
        "    operadores = ['+', '-', '*', '/']  # Los 4 operadores básicos\n",
        "    return digitos, operadores\n",
        "\n",
        "# Generar vecino cambiando un dígito o permutando operadores\n",
        "def generar_vecino(digitos, operadores):\n",
        "    vecino_digitos = digitos[:]\n",
        "    vecino_operadores = operadores[:]\n",
        "    if random.random() < 0.5:\n",
        "        # Cambiar un dígito\n",
        "        idx = random.randint(0, len(digitos) - 1)\n",
        "        current_digits = set(digitos)\n",
        "        new_digit = random.choice([d for d in map(str, range(1, 10)) if d not in current_digits])\n",
        "        vecino_digitos[idx] = new_digit\n",
        "    else:\n",
        "        # Permutar operadores\n",
        "        idx1, idx2 = random.sample(range(len(operadores)), 2)\n",
        "        vecino_operadores[idx1], vecino_operadores[idx2] = vecino_operadores[idx2], vecino_operadores[idx1]\n",
        "    return vecino_digitos, vecino_operadores\n",
        "\n",
        "# Algoritmo de enfriamiento simulado\n",
        "def enfriamiento_simulado():\n",
        "    # Inicializar dígitos y operadores\n",
        "    digitos, operadores = generar_digitos_y_operadores()\n",
        "    expr = generar_expresion(digitos, operadores)\n",
        "    mejor_digitos = digitos\n",
        "    mejor_operadores = operadores\n",
        "    mejor_expr = expr\n",
        "    mejor_fitness = fitness(expr)\n",
        "\n",
        "    # Inicializar temperatura\n",
        "    temperatura = INITIAL_TEMPERATURE\n",
        "\n",
        "    # Almacenar resultados enteros y sus expresiones\n",
        "    resultados_enteros = {}\n",
        "\n",
        "    while temperatura > FINAL_TEMPERATURE:\n",
        "        for _ in range(ITERATIONS_PER_TEMP):\n",
        "            # Generar vecino y evaluar\n",
        "            vecino_digitos, vecino_operadores = generar_vecino(digitos, operadores)\n",
        "            nueva_expr = generar_expresion(vecino_digitos, vecino_operadores)\n",
        "            nueva_fitness = fitness(nueva_expr)\n",
        "\n",
        "            # Calcular cambio en fitness\n",
        "            delta_fitness = nueva_fitness - mejor_fitness\n",
        "\n",
        "            if delta_fitness > 0 or math.exp(delta_fitness / temperatura) > random.random():\n",
        "                digitos = vecino_digitos\n",
        "                operadores = vecino_operadores\n",
        "                expr = nueva_expr\n",
        "                if nueva_fitness > mejor_fitness:\n",
        "                    mejor_digitos = vecino_digitos\n",
        "                    mejor_operadores = vecino_operadores\n",
        "                    mejor_expr = nueva_expr\n",
        "                    mejor_fitness = nueva_fitness\n",
        "\n",
        "            # Almacenar resultado entero si existe\n",
        "            resultado = evaluar_expresion(expr)\n",
        "            if resultado is not None:\n",
        "                resultados_enteros[resultado] = expr\n",
        "\n",
        "        # Enfriar la temperatura\n",
        "        temperatura *= ALPHA\n",
        "\n",
        "    # Evaluar los resultados finales\n",
        "    resultado = evaluar_expresion(mejor_expr)\n",
        "    if resultado is not None:\n",
        "        resultados_enteros[resultado] = mejor_expr\n",
        "\n",
        "    # Determinar el valor mínimo y máximo y sus expresiones\n",
        "    if resultados_enteros:\n",
        "        valor_minimo = min(resultados_enteros.keys())\n",
        "        valor_maximo = max(resultados_enteros.keys())\n",
        "        expresion_minima = resultados_enteros[valor_minimo]\n",
        "        expresion_maxima = resultados_enteros[valor_maximo]\n",
        "    else:\n",
        "        valor_minimo = None\n",
        "        valor_maximo = None\n",
        "        expresion_minima = None\n",
        "        expresion_maxima = None\n",
        "\n",
        "    print(\"Resultado:\", resultado)\n",
        "    print(\"Valor mínimo:\", valor_minimo, \"con expresión:\", expresion_minima)\n",
        "    print(\"Valor máximo:\", valor_maximo, \"con expresión:\", expresion_maxima)\n",
        "    return valor_minimo, valor_maximo, expresion_minima, expresion_maxima\n",
        "\n",
        "# Ejecutar el algoritmo de enfriamiento simulado\n",
        "enfriamiento_simulado()\n"
      ]
    },
    {
      "cell_type": "markdown",
      "metadata": {
        "id": "eGDB4K6uk1iN"
      },
      "source": [
        "# (*)Calcula la complejidad del algoritmo"
      ]
    },
    {
      "cell_type": "markdown",
      "metadata": {
        "id": "i_lbZQE9HluB"
      },
      "source": [
        "Por la misma naturaleza del algoritmo creado vamos a utilizar la temperatura inicial, la temperatura final y la tasa de enfriamiento para calcular la complejidad del algoritmo de enfriamiento simulado.\n",
        "\n",
        "### Número de iteraciones (N)\n",
        "El cálculo del número de iteraciones del algoritmo esta directamente relacionado con cómo la temperatura se reduce desde el valor inicial hasta el valor final usando la tasa de enfriamiento. Usaremos la siguiente formula:\n",
        "\n",
        "**Número de Iteraciones = [(Ln(T_final) - Ln(T_initial)]/Ln (α)**\n",
        "\n",
        "Donde <br>\n",
        "Temperatura Inicial (T_initial): Define el punto de partida del algoritmo. <br>\n",
        "Temperatura Final (T_final): Define cuándo se detiene el algoritmo. <br>\n",
        "Tasa de Enfriamiento (α): Determina la rapidez con la que la temperatura disminuye. <br>\n",
        "Resolviendo: <br>\n",
        "Número de Iteraciones=(0−9.21034)/−0.00501=1838.24 aproximando a **1838**\n",
        "​\n",
        "### Número de evaluaciones por iteración (M)\n",
        "**ITERATIONS_PER_TEMP** se define en el algoritmo, en este caso es 100\n",
        "\n",
        "******\n",
        "<br>\n",
        "La complejidad del algoritmo de enfriamiento simulado en términos generales es\n",
        "O(N×M), donde\n",
        "\n",
        "**N** es el número de iteraciones determinado por la tasa de enfriamiento y los límites de temperatura, y\n",
        "\n",
        "**M** es el número de evaluaciones por iteración. En el caso específico con los parámetros dados, se espera que la complejidad sea de alrededor de 80,000 evaluaciones.\n",
        "\n",
        "**Complejidad total = 1838 x 100 = 183 800**"
      ]
    },
    {
      "cell_type": "markdown",
      "metadata": {
        "id": "3M6QjTsSkmYe"
      },
      "source": [
        "Según el problema (y tenga sentido), diseña un juego de datos de entrada aleatorios"
      ]
    },
    {
      "cell_type": "markdown",
      "metadata": {
        "id": "Jc3_OlyNkvjZ"
      },
      "source": [
        "Respuesta"
      ]
    },
    {
      "cell_type": "markdown",
      "metadata": {
        "id": "zy5ZROmjlGo1"
      },
      "source": [
        "Aplica el algoritmo al juego de datos generado"
      ]
    },
    {
      "cell_type": "markdown",
      "metadata": {
        "id": "_Cmj-PVylMsa"
      },
      "source": [
        "Respuesta"
      ]
    },
    {
      "cell_type": "markdown",
      "metadata": {
        "id": "eTFWUJQrtGcv"
      },
      "source": [
        "# Enumera las referencias que has utilizado(si ha sido necesario) para llevar a cabo el trabajo"
      ]
    },
    {
      "cell_type": "markdown",
      "metadata": {
        "id": "YKQ_mRBttWsP"
      },
      "source": [
        "Para encontrar información acerca del algoritmo de enfriamiento simulado he tenido que consultar las referencias bibliográficas:\n",
        "\n",
        "* \"Material docente del curso Algoritmos de optimización\" por Raúl Reyero Díez\n",
        "\n",
        "* \"Optimization by Simulated Annealing\" por S. Kirkpatrick, C.D. Gelatt, y M.P. Vecchi\n",
        "https://www2.stat.duke.edu/~scs/Courses/Stat376/Papers/TemperAnneal/KirkpatrickAnnealScience1983.pdf\n",
        "\n",
        "* \"Handbook of Metaheuristics\" por Michel Gendreau · Jean-Yves Potvin Editors\n",
        "http://old.math.nsc.ru/LBRT/k5/OR-MMF/2019_Book_HandbookOfMetaheuristics.pdf\n"
      ]
    },
    {
      "cell_type": "markdown",
      "metadata": {
        "id": "kAkDPUyRtYyH"
      },
      "source": [
        "Describe brevemente las lineas de como crees que es posible avanzar en el estudio del problema. Ten en cuenta incluso posibles variaciones del problema y/o variaciones al alza del tamaño"
      ]
    },
    {
      "cell_type": "markdown",
      "metadata": {
        "id": "IE0uZmo-tZu-"
      },
      "source": [
        "Respuesta"
      ]
    }
  ],
  "metadata": {
    "colab": {
      "provenance": [],
      "include_colab_link": true
    },
    "kernelspec": {
      "display_name": "Python 3",
      "name": "python3"
    }
  },
  "nbformat": 4,
  "nbformat_minor": 0
}